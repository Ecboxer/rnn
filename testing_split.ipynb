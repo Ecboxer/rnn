{
 "cells": [
  {
   "cell_type": "code",
   "execution_count": 1,
   "metadata": {},
   "outputs": [],
   "source": [
    "import random"
   ]
  },
  {
   "cell_type": "code",
   "execution_count": 109,
   "metadata": {},
   "outputs": [],
   "source": [
    "def split(l, p_1 = .5, p_2 = .3):\n",
    "    n_1 = int(len(l) * p_1)\n",
    "    n_2 = int(len(l) * p_2)\n",
    "    n_3 = len(l) - n_1 - n_2\n",
    "    i = 0\n",
    "    j = 0\n",
    "    k = 0\n",
    "    l_1 = []\n",
    "    l_2 = []\n",
    "    l_3 = []\n",
    "    for elem in l:\n",
    "        while True:\n",
    "            r = random.random()\n",
    "            if (i < n_1 and r < p_1):\n",
    "                l_1.append(elem)\n",
    "                i += 1\n",
    "                break\n",
    "            elif (j < n_2 and r < p_1 + p_2):\n",
    "                l_2.append(elem)\n",
    "                j += 1\n",
    "                break\n",
    "            elif k < n_3:\n",
    "                l_3.append(elem)\n",
    "                k += 1\n",
    "                break\n",
    "    print(len(l_1), len(l_2), len(l_3))\n",
    "    return l_1, l_2, l_3"
   ]
  },
  {
   "cell_type": "code",
   "execution_count": 2,
   "metadata": {},
   "outputs": [],
   "source": [
    "x = [1, 2, 3, 4, 5, 6, 7, 8, 9, 10]"
   ]
  },
  {
   "cell_type": "code",
   "execution_count": 8,
   "metadata": {},
   "outputs": [
    {
     "name": "stdout",
     "output_type": "stream",
     "text": [
      "5 2 3\n"
     ]
    },
    {
     "data": {
      "text/plain": [
       "([2, 4, 5, 6, 7], [3, 10], [1, 8, 9])"
      ]
     },
     "execution_count": 8,
     "metadata": {},
     "output_type": "execute_result"
    }
   ],
   "source": [
    "split(x)"
   ]
  },
  {
   "cell_type": "code",
   "execution_count": 18,
   "metadata": {},
   "outputs": [],
   "source": [
    "y = range(100)"
   ]
  },
  {
   "cell_type": "code",
   "execution_count": 157,
   "metadata": {},
   "outputs": [
    {
     "name": "stdout",
     "output_type": "stream",
     "text": [
      "50 30 20\n"
     ]
    },
    {
     "data": {
      "text/plain": [
       "([3,\n",
       "  5,\n",
       "  7,\n",
       "  8,\n",
       "  9,\n",
       "  10,\n",
       "  12,\n",
       "  25,\n",
       "  26,\n",
       "  28,\n",
       "  31,\n",
       "  32,\n",
       "  34,\n",
       "  38,\n",
       "  39,\n",
       "  40,\n",
       "  41,\n",
       "  42,\n",
       "  43,\n",
       "  50,\n",
       "  51,\n",
       "  54,\n",
       "  56,\n",
       "  63,\n",
       "  64,\n",
       "  65,\n",
       "  67,\n",
       "  68,\n",
       "  69,\n",
       "  70,\n",
       "  72,\n",
       "  74,\n",
       "  77,\n",
       "  78,\n",
       "  80,\n",
       "  83,\n",
       "  85,\n",
       "  86,\n",
       "  87,\n",
       "  88,\n",
       "  90,\n",
       "  91,\n",
       "  92,\n",
       "  93,\n",
       "  94,\n",
       "  95,\n",
       "  96,\n",
       "  97,\n",
       "  98,\n",
       "  99],\n",
       " [0,\n",
       "  2,\n",
       "  6,\n",
       "  15,\n",
       "  17,\n",
       "  18,\n",
       "  20,\n",
       "  22,\n",
       "  23,\n",
       "  24,\n",
       "  27,\n",
       "  33,\n",
       "  35,\n",
       "  36,\n",
       "  37,\n",
       "  53,\n",
       "  55,\n",
       "  57,\n",
       "  59,\n",
       "  60,\n",
       "  61,\n",
       "  71,\n",
       "  73,\n",
       "  75,\n",
       "  76,\n",
       "  79,\n",
       "  81,\n",
       "  82,\n",
       "  84,\n",
       "  89],\n",
       " [1,\n",
       "  4,\n",
       "  11,\n",
       "  13,\n",
       "  14,\n",
       "  16,\n",
       "  19,\n",
       "  21,\n",
       "  29,\n",
       "  30,\n",
       "  44,\n",
       "  45,\n",
       "  46,\n",
       "  47,\n",
       "  48,\n",
       "  49,\n",
       "  52,\n",
       "  58,\n",
       "  62,\n",
       "  66])"
      ]
     },
     "execution_count": 157,
     "metadata": {},
     "output_type": "execute_result"
    }
   ],
   "source": [
    "split(y)"
   ]
  }
 ],
 "metadata": {
  "kernelspec": {
   "display_name": "Python 3",
   "language": "python",
   "name": "python3"
  },
  "language_info": {
   "codemirror_mode": {
    "name": "ipython",
    "version": 3
   },
   "file_extension": ".py",
   "mimetype": "text/x-python",
   "name": "python",
   "nbconvert_exporter": "python",
   "pygments_lexer": "ipython3",
   "version": "3.6.5"
  }
 },
 "nbformat": 4,
 "nbformat_minor": 2
}
